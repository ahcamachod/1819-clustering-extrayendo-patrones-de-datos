{
  "nbformat": 4,
  "nbformat_minor": 0,
  "metadata": {
    "colab": {
      "name": "clustering-aula-1.ipynb",
      "provenance": [],
      "authorship_tag": "ABX9TyNgMfXC5Ggb1wBBQeesxmLo",
      "include_colab_link": true
    },
    "kernelspec": {
      "name": "python3",
      "display_name": "Python 3"
    },
    "language_info": {
      "name": "python"
    }
  },
  "cells": [
    {
      "cell_type": "markdown",
      "metadata": {
        "id": "view-in-github",
        "colab_type": "text"
      },
      "source": [
        "<a href=\"https://colab.research.google.com/github/ahcamachod/1819-clustering-extrayendo-patrones-de-datos/blob/main/clustering_aula_1.ipynb\" target=\"_parent\"><img src=\"https://colab.research.google.com/assets/colab-badge.svg\" alt=\"Open In Colab\"/></a>"
      ]
    },
    {
      "cell_type": "markdown",
      "metadata": {
        "id": "Lfma5y1KmBKF"
      },
      "source": [
        "#Clustering: Extrayendo patrones de datos\n",
        "En este notebook estaremos analizando patrones en el comportamiento de clientes de tarjeta de crédito empleando un dataset de Kaggle llamado CC GENERAL.csv.\n",
        "\n",
        "Dicho análisis estará sujeto a los resultados obtenidos a través de una técnica de aprendizaje no supervisada llamada clustering.\n",
        "\n",
        "Dataset: https://www.kaggle.com/arjunbhasin2013/ccdata"
      ]
    },
    {
      "cell_type": "markdown",
      "metadata": {
        "id": "B1tR8q8lmJ5s"
      },
      "source": [
        "# 1. Bibliotecas utilizadas\n",
        "Las versiones de las bibliotecas que usaremos son las siguientes:\n",
        "\n",
        "\n"
      ]
    },
    {
      "cell_type": "code",
      "metadata": {
        "colab": {
          "base_uri": "https://localhost:8080/"
        },
        "id": "l_vkOh5zl1bf",
        "outputId": "534fe012-055b-4c72-e450-fc33992098e8"
      },
      "source": [
        "import matplotlib\n",
        "import numpy as np\n",
        "import pandas as pd\n",
        "import seaborn as sns\n",
        "import sklearn\n",
        "\n",
        "print(f'matplotlib --> {matplotlib.__version__}')\n",
        "print(f'pandas --> {pd.__version__}')\n",
        "print(f'numpy --> {np.__version__}')\n",
        "print(f'seaborn --> {sns.__version__}')\n",
        "print(f'sklearn --> {sklearn.__version__}')"
      ],
      "execution_count": 1,
      "outputs": [
        {
          "output_type": "stream",
          "text": [
            "matplotlib --> 3.2.2\n",
            "pandas --> 1.1.5\n",
            "numpy --> 1.19.5\n",
            "seaborn --> 0.11.1\n",
            "sklearn --> 0.22.2.post1\n"
          ],
          "name": "stdout"
        }
      ]
    },
    {
      "cell_type": "markdown",
      "metadata": {
        "id": "72R0qcsOmf0h"
      },
      "source": [
        "# 2. Obteniendo los *clusters* y entendiendo criterios y métricas de validación"
      ]
    },
    {
      "cell_type": "code",
      "metadata": {
        "id": "lF63HleSopob"
      },
      "source": [
        ""
      ],
      "execution_count": null,
      "outputs": []
    },
    {
      "cell_type": "code",
      "metadata": {
        "id": "726-h8rpoprS"
      },
      "source": [
        ""
      ],
      "execution_count": null,
      "outputs": []
    },
    {
      "cell_type": "code",
      "metadata": {
        "id": "16zF80j7opuy"
      },
      "source": [
        ""
      ],
      "execution_count": null,
      "outputs": []
    },
    {
      "cell_type": "markdown",
      "metadata": {
        "id": "I2SmXffJmgyA"
      },
      "source": [
        "# 3. Entendiendo y calculando el índice Davies-Bouldin"
      ]
    },
    {
      "cell_type": "code",
      "metadata": {
        "id": "Ovg3lPEjoqei"
      },
      "source": [
        ""
      ],
      "execution_count": null,
      "outputs": []
    },
    {
      "cell_type": "code",
      "metadata": {
        "id": "RkWFhv7Doqhm"
      },
      "source": [
        ""
      ],
      "execution_count": null,
      "outputs": []
    },
    {
      "cell_type": "code",
      "metadata": {
        "id": "q2Az4eZ0oqla"
      },
      "source": [
        ""
      ],
      "execution_count": null,
      "outputs": []
    },
    {
      "cell_type": "markdown",
      "metadata": {
        "id": "DKBnSxWFmg8I"
      },
      "source": [
        "# 4. Entendiendo y calculando el índice Calinski-Harabasz"
      ]
    },
    {
      "cell_type": "code",
      "metadata": {
        "id": "Ye0PAuR7orJa"
      },
      "source": [
        ""
      ],
      "execution_count": null,
      "outputs": []
    },
    {
      "cell_type": "code",
      "metadata": {
        "id": "s0SAzomuorMi"
      },
      "source": [
        ""
      ],
      "execution_count": null,
      "outputs": []
    },
    {
      "cell_type": "code",
      "metadata": {
        "id": "bBcS5DIAorPr"
      },
      "source": [
        ""
      ],
      "execution_count": null,
      "outputs": []
    },
    {
      "cell_type": "markdown",
      "metadata": {
        "id": "NPnY2QBnmhII"
      },
      "source": [
        "# 5. Validando y visualizando los *clusters*"
      ]
    },
    {
      "cell_type": "code",
      "metadata": {
        "id": "4E78LqWuor7r"
      },
      "source": [
        ""
      ],
      "execution_count": null,
      "outputs": []
    },
    {
      "cell_type": "code",
      "metadata": {
        "id": "QrNO8pVuor-z"
      },
      "source": [
        ""
      ],
      "execution_count": null,
      "outputs": []
    },
    {
      "cell_type": "code",
      "metadata": {
        "id": "VZJcxp9VosCS"
      },
      "source": [
        ""
      ],
      "execution_count": null,
      "outputs": []
    },
    {
      "cell_type": "markdown",
      "metadata": {
        "id": "17cg4EDWmhWq"
      },
      "source": [
        "# 6. Entendiendo los valores de los atributos de los *clusters*"
      ]
    },
    {
      "cell_type": "code",
      "metadata": {
        "id": "4OQXnVwbospj"
      },
      "source": [
        ""
      ],
      "execution_count": null,
      "outputs": []
    },
    {
      "cell_type": "code",
      "metadata": {
        "id": "5ynOuhVEossh"
      },
      "source": [
        ""
      ],
      "execution_count": null,
      "outputs": []
    },
    {
      "cell_type": "code",
      "metadata": {
        "id": "gAUTecfaosva"
      },
      "source": [
        ""
      ],
      "execution_count": null,
      "outputs": []
    },
    {
      "cell_type": "markdown",
      "metadata": {
        "id": "_Ef3Oh7Umhjw"
      },
      "source": [
        "# 7. Interpretando los *clusters*"
      ]
    },
    {
      "cell_type": "code",
      "metadata": {
        "id": "v7MqwwjTotX7"
      },
      "source": [
        ""
      ],
      "execution_count": null,
      "outputs": []
    },
    {
      "cell_type": "code",
      "metadata": {
        "id": "ID5tamllotiC"
      },
      "source": [
        ""
      ],
      "execution_count": null,
      "outputs": []
    },
    {
      "cell_type": "code",
      "metadata": {
        "id": "JYnQREIaol_A"
      },
      "source": [
        ""
      ],
      "execution_count": null,
      "outputs": []
    }
  ]
}